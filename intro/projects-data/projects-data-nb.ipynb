{
 "cells": [
  {
   "cell_type": "markdown",
   "id": "cabab9d9-2949-46e7-808b-7bc70211164e",
   "metadata": {},
   "source": [
    "## Connecting to S3 with Data Connections and Boto3\n",
    "\n",
    "This notebook uses the `boto3` library, which is the AWS SDK for Python.\n",
    "This library is included in some workbench images included with RHOAI, such as `Standard Data Science`.\n",
    "\n",
    "The data connection injects the parameters required to connect to S3 as environment variables."
   ]
  },
  {
   "cell_type": "markdown",
   "id": "1b846e72-76c2-4c80-8707-266682759e04",
   "metadata": {},
   "source": [
    "1. Import the required packages."
   ]
  },
  {
   "cell_type": "code",
   "execution_count": 2,
   "id": "5b413b03-e803-4997-b4b5-9a80e6097fcc",
   "metadata": {},
   "outputs": [
    {
     "name": "stdout",
     "output_type": "stream",
     "text": [
      "Collecting boto3\n",
      "  Obtaining dependency information for boto3 from https://files.pythonhosted.org/packages/17/c2/72a92794237b43f64141e156bc3a58bc36d18631f1a614e1e97a48b56447/boto3-1.36.2-py3-none-any.whl.metadata\n",
      "  Downloading boto3-1.36.2-py3-none-any.whl.metadata (6.6 kB)\n",
      "Collecting botocore<1.37.0,>=1.36.2 (from boto3)\n",
      "  Obtaining dependency information for botocore<1.37.0,>=1.36.2 from https://files.pythonhosted.org/packages/0c/fe/c066e8cb069027c12dbcf9066a7a4f3e9d2a31b10c7b174a8455ef1d0f46/botocore-1.36.2-py3-none-any.whl.metadata\n",
      "  Downloading botocore-1.36.2-py3-none-any.whl.metadata (5.7 kB)\n",
      "Collecting jmespath<2.0.0,>=0.7.1 (from boto3)\n",
      "  Obtaining dependency information for jmespath<2.0.0,>=0.7.1 from https://files.pythonhosted.org/packages/31/b4/b9b800c45527aadd64d5b442f9b932b00648617eb5d63d2c7a6587b7cafc/jmespath-1.0.1-py3-none-any.whl.metadata\n",
      "  Downloading jmespath-1.0.1-py3-none-any.whl.metadata (7.6 kB)\n",
      "Collecting s3transfer<0.12.0,>=0.11.0 (from boto3)\n",
      "  Obtaining dependency information for s3transfer<0.12.0,>=0.11.0 from https://files.pythonhosted.org/packages/5f/ce/22673f4a85ccc640735b4f8d12178a0f41b5d3c6eda7f33756d10ce56901/s3transfer-0.11.1-py3-none-any.whl.metadata\n",
      "  Downloading s3transfer-0.11.1-py3-none-any.whl.metadata (1.7 kB)\n",
      "Requirement already satisfied: python-dateutil<3.0.0,>=2.1 in /opt/app-root/lib64/python3.11/site-packages (from botocore<1.37.0,>=1.36.2->boto3) (2.9.0.post0)\n",
      "Requirement already satisfied: urllib3!=2.2.0,<3,>=1.25.4 in /opt/app-root/lib64/python3.11/site-packages (from botocore<1.37.0,>=1.36.2->boto3) (2.2.3)\n",
      "Requirement already satisfied: six>=1.5 in /opt/app-root/lib64/python3.11/site-packages (from python-dateutil<3.0.0,>=2.1->botocore<1.37.0,>=1.36.2->boto3) (1.16.0)\n",
      "Downloading boto3-1.36.2-py3-none-any.whl (139 kB)\n",
      "\u001b[2K   \u001b[90m━━━━━━━━━━━━━━━━━━━━━━━━━━━━━━━━━━━━━━━━\u001b[0m \u001b[32m139.2/139.2 kB\u001b[0m \u001b[31m3.8 MB/s\u001b[0m eta \u001b[36m0:00:00\u001b[0ma \u001b[36m0:00:01\u001b[0m\n",
      "\u001b[?25hDownloading botocore-1.36.2-py3-none-any.whl (13.3 MB)\n",
      "\u001b[2K   \u001b[90m━━━━━━━━━━━━━━━━━━━━━━━━━━━━━━━━━━━━━━━━\u001b[0m \u001b[32m13.3/13.3 MB\u001b[0m \u001b[31m6.1 MB/s\u001b[0m eta \u001b[36m0:00:00\u001b[0m00:01\u001b[0m00:01\u001b[0m\n",
      "\u001b[?25hDownloading jmespath-1.0.1-py3-none-any.whl (20 kB)\n",
      "Downloading s3transfer-0.11.1-py3-none-any.whl (84 kB)\n",
      "\u001b[2K   \u001b[90m━━━━━━━━━━━━━━━━━━━━━━━━━━━━━━━━━━━━━━━━\u001b[0m \u001b[32m84.1/84.1 kB\u001b[0m \u001b[31m33.0 MB/s\u001b[0m eta \u001b[36m0:00:00\u001b[0m\n",
      "\u001b[?25hInstalling collected packages: jmespath, botocore, s3transfer, boto3\n",
      "Successfully installed boto3-1.36.2 botocore-1.36.2 jmespath-1.0.1 s3transfer-0.11.1\n",
      "\n",
      "\u001b[1m[\u001b[0m\u001b[34;49mnotice\u001b[0m\u001b[1;39;49m]\u001b[0m\u001b[39;49m A new release of pip is available: \u001b[0m\u001b[31;49m23.2.1\u001b[0m\u001b[39;49m -> \u001b[0m\u001b[32;49m24.3.1\u001b[0m\n",
      "\u001b[1m[\u001b[0m\u001b[34;49mnotice\u001b[0m\u001b[1;39;49m]\u001b[0m\u001b[39;49m To update, run: \u001b[0m\u001b[32;49mpip install --upgrade pip\u001b[0m\n",
      "Note: you may need to restart the kernel to use updated packages.\n"
     ]
    }
   ],
   "source": [
    "pip install boto3"
   ]
  },
  {
   "cell_type": "code",
   "execution_count": 1,
   "id": "f7accda4-b5a8-49d5-a5c2-50edd181ec38",
   "metadata": {
    "tags": []
   },
   "outputs": [],
   "source": [
    "import os\n",
    "import io\n",
    "import boto3"
   ]
  },
  {
   "cell_type": "markdown",
   "id": "a8e2f489-8b9b-4bdd-8b01-bc3701b671d6",
   "metadata": {},
   "source": [
    "2. Retrieve the environment variables injected by the data connection."
   ]
  },
  {
   "cell_type": "code",
   "execution_count": 2,
   "id": "81977761-63e9-40b7-ab62-706bc0d400a5",
   "metadata": {
    "tags": []
   },
   "outputs": [],
   "source": [
    "key_id = os.getenv(\"AWS_ACCESS_KEY_ID\")\n",
    "secret_key = os.getenv(\"AWS_SECRET_ACCESS_KEY\")\n",
    "region = os.getenv(\"AWS_DEFAULT_REGION\")\n",
    "endpoint = os.getenv(\"AWS_S3_ENDPOINT\")\n",
    "bucket_name = os.getenv(\"AWS_S3_BUCKET\")"
   ]
  },
  {
   "cell_type": "markdown",
   "id": "9c401286-c52e-42b0-9a51-505f2dd9cd15",
   "metadata": {},
   "source": [
    "3. View a retrieved value.\n",
    "Note that the `key_id` matches the value provided in the form when creating the data connection.\n",
    "\n",
    "> WARNING: Because cell outputs are saved as part of the notebook file, be cautious when printing sensitive information to notebook output.\n",
    "If you leave sensitive credentials printed in an output cell, then you might accidentally leak this information when the notebook is committed to version control."
   ]
  },
  {
   "cell_type": "code",
   "execution_count": 3,
   "id": "e7fef18d-eb13-4762-91f5-1369d6af8969",
   "metadata": {
    "tags": []
   },
   "outputs": [
    {
     "data": {
      "text/plain": [
       "'minio'"
      ]
     },
     "execution_count": 3,
     "metadata": {},
     "output_type": "execute_result"
    }
   ],
   "source": [
    "key_id"
   ]
  },
  {
   "cell_type": "markdown",
   "id": "3f328012-128f-4d3d-96ce-28e6405fcc4e",
   "metadata": {},
   "source": [
    "4. Use the values retrieved from the data connection to create a connection to the S3 bucket."
   ]
  },
  {
   "cell_type": "code",
   "execution_count": 4,
   "id": "9caecc37-d1c9-49c0-a1c6-b295094f2ef2",
   "metadata": {
    "tags": []
   },
   "outputs": [],
   "source": [
    "s3 = boto3.client(\n",
    "    \"s3\",\n",
    "    region,\n",
    "    aws_access_key_id=key_id,\n",
    "    aws_secret_access_key=secret_key,\n",
    "    endpoint_url=endpoint,\n",
    "    use_ssl=False\n",
    ")"
   ]
  },
  {
   "cell_type": "markdown",
   "id": "d6a05b7c-4110-4132-8a2c-5433b3fb88d3",
   "metadata": {},
   "source": [
    "5. Use the connection to retrieve the list of available buckets."
   ]
  },
  {
   "cell_type": "code",
   "execution_count": 5,
   "id": "411296b4-cd8d-4e65-a352-fab9c478e418",
   "metadata": {
    "tags": []
   },
   "outputs": [
    {
     "data": {
      "text/plain": [
       "[{'Name': 'projects-data-bucket',\n",
       "  'CreationDate': datetime.datetime(2025, 1, 18, 3, 19, 55, 289000, tzinfo=tzlocal())}]"
      ]
     },
     "execution_count": 5,
     "metadata": {},
     "output_type": "execute_result"
    }
   ],
   "source": [
    "response = s3.list_buckets()\n",
    "response[\"Buckets\"]"
   ]
  },
  {
   "cell_type": "markdown",
   "id": "d2223269-a61e-4f91-addd-9af197b5a7f8",
   "metadata": {},
   "source": [
    "6. Upload a file to the bucket via the connection."
   ]
  },
  {
   "cell_type": "code",
   "execution_count": 6,
   "id": "b25303ea-cd23-4958-b08a-c5a52beda700",
   "metadata": {},
   "outputs": [],
   "source": [
    "# create a file-like object containing bytes that represent the \"hello world\" string\n",
    "file_obj = io.BytesIO(b\"hello world\")\n",
    "\n",
    "# upload the file-like object to the S3 bucket specified in the data connection\n",
    "# the name of the \"file\" in S3 is \"hello.txt\"\n",
    "s3.upload_fileobj(file_obj, bucket_name, Key=\"hello.txt\")"
   ]
  },
  {
   "cell_type": "markdown",
   "id": "7b407ad7-14b2-4149-9220-a7188fd3a05c",
   "metadata": {},
   "source": [
    "6. List the contents of the bucket specified in the data connection."
   ]
  },
  {
   "cell_type": "code",
   "execution_count": 7,
   "id": "1c0a4879-ed47-4132-8abb-7fcd42cb0af7",
   "metadata": {},
   "outputs": [
    {
     "name": "stdout",
     "output_type": "stream",
     "text": [
      "hello.txt\n"
     ]
    }
   ],
   "source": [
    "# retrieve the metadata of contents within the bucket\n",
    "objects = s3.list_objects_v2(Bucket=bucket_name)\n",
    "\n",
    "# output the name of each object within the bucket\n",
    "for obj in objects[\"Contents\"]:\n",
    "    print(obj[\"Key\"])"
   ]
  },
  {
   "cell_type": "markdown",
   "id": "63f252dd-3abe-4dd9-ad09-282047b6d97a",
   "metadata": {},
   "source": [
    "> NOTE: Optionally, verify the corresponding S3 bucket for the new `hello.txt` object."
   ]
  },
  {
   "cell_type": "markdown",
   "id": "b9e8cd99-7644-4d02-849b-c30bd744ffaa",
   "metadata": {},
   "source": [
    "7. Download the file from the S3 bucket to a new location."
   ]
  },
  {
   "cell_type": "code",
   "execution_count": 8,
   "id": "0c1ea1b1-dc8e-4027-bc56-75a2ce8084d6",
   "metadata": {},
   "outputs": [],
   "source": [
    "s3.download_file(bucket_name, \"hello.txt\", \"new_hello.txt\")"
   ]
  },
  {
   "cell_type": "markdown",
   "id": "c1c591fb-f880-401c-b52f-e719ae83c753",
   "metadata": {},
   "source": [
    "8. The pane to the left displays a new file called `new_hello.txt`.\n",
    "Open the file and verify that its contents are `hello world`.\n",
    "\n",
    "> NOTE: You might need to refresh the file browser by clicking the `Refresh the file browser` button in the file browser pane.\n",
    "The button displays as a circular arrow."
   ]
  },
  {
   "cell_type": "markdown",
   "id": "31b2aeae-2218-4cd7-b77a-74ae7b540240",
   "metadata": {},
   "source": [
    "Return to the course book to finish the exercise."
   ]
  }
 ],
 "metadata": {
  "kernelspec": {
   "display_name": "Python 3.11",
   "language": "python",
   "name": "python3"
  },
  "language_info": {
   "codemirror_mode": {
    "name": "ipython",
    "version": 3
   },
   "file_extension": ".py",
   "mimetype": "text/x-python",
   "name": "python",
   "nbconvert_exporter": "python",
   "pygments_lexer": "ipython3",
   "version": "3.11.7"
  }
 },
 "nbformat": 4,
 "nbformat_minor": 5
}
